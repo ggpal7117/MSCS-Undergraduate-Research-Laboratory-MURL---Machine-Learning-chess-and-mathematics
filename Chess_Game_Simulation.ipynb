{
  "nbformat": 4,
  "nbformat_minor": 0,
  "metadata": {
    "colab": {
      "provenance": [],
      "include_colab_link": true
    },
    "kernelspec": {
      "name": "python3",
      "display_name": "Python 3"
    },
    "language_info": {
      "name": "python"
    }
  },
  "cells": [
    {
      "cell_type": "markdown",
      "metadata": {
        "id": "view-in-github",
        "colab_type": "text"
      },
      "source": [
        "<a href=\"https://colab.research.google.com/github/ggpal7117/MSCS-Undergraduate-Research-Laboratory-MURL---Machine-Learning-chess-and-mathematics/blob/main/Chess_Game_Simulation.ipynb\" target=\"_parent\"><img src=\"https://colab.research.google.com/assets/colab-badge.svg\" alt=\"Open In Colab\"/></a>"
      ]
    },
    {
      "cell_type": "code",
      "source": [
        "pip install python-chess"
      ],
      "metadata": {
        "id": "5fccB6RwrBMB",
        "colab": {
          "base_uri": "https://localhost:8080/"
        },
        "outputId": "aa90a6ab-4fd2-4dd0-c6ff-5104cf01a807"
      },
      "execution_count": 1,
      "outputs": [
        {
          "output_type": "stream",
          "name": "stdout",
          "text": [
            "Requirement already satisfied: python-chess in /usr/local/lib/python3.12/dist-packages (1.999)\n",
            "Requirement already satisfied: chess<2,>=1 in /usr/local/lib/python3.12/dist-packages (from python-chess) (1.11.2)\n"
          ]
        }
      ]
    },
    {
      "cell_type": "code",
      "execution_count": 2,
      "metadata": {
        "id": "fqJysXcGqePm"
      },
      "outputs": [],
      "source": [
        "import chess\n",
        "import numpy as np\n",
        "import random"
      ]
    },
    {
      "cell_type": "code",
      "source": [
        "# Create an empty board\n",
        "board = chess.Board(None)  # no pieces\n",
        "\n",
        "# Place 3 white pieces on the first row\n",
        "board.set_piece_at(chess.A2, chess.Piece(chess.PAWN, chess.WHITE))\n",
        "board.set_piece_at(chess.B2, chess.Piece(chess.PAWN, chess.WHITE))\n",
        "board.set_piece_at(chess.C2, chess.Piece(chess.PAWN, chess.WHITE))\n",
        "\n",
        "# Place 3 black pieces on the first row\n",
        "board.set_piece_at(chess.A6, chess.Piece(chess.PAWN, chess.BLACK))\n",
        "board.set_piece_at(chess.B6, chess.Piece(chess.PAWN, chess.BLACK))\n",
        "board.set_piece_at(chess.C6, chess.Piece(chess.PAWN, chess.BLACK))\n",
        "\n",
        "\n",
        "# Three offesnsive pieces white\n",
        "board.set_piece_at(chess.A1, chess.Piece(chess.QUEEN, chess.WHITE))\n",
        "board.set_piece_at(chess.B1, chess.Piece(chess.KING, chess.WHITE))\n",
        "board.set_piece_at(chess.C1, chess.Piece(chess.BISHOP, chess.WHITE))\n",
        "\n",
        "# Three offesnive pieces black\n",
        "board.set_piece_at(chess.A7, chess.Piece(chess.QUEEN, chess.BLACK))\n",
        "board.set_piece_at(chess.B7, chess.Piece(chess.KING, chess.BLACK))\n",
        "board.set_piece_at(chess.C7, chess.Piece(chess.BISHOP, chess.BLACK))\n"
      ],
      "metadata": {
        "id": "-auky3r0rNor"
      },
      "execution_count": 3,
      "outputs": []
    },
    {
      "cell_type": "code",
      "source": [
        "valid_squares = {chess.square(file, rank) for file in range(0, 3) for rank in range(0, 7)}\n",
        "\n",
        "# --- Play loop ---\n",
        "while not board.is_game_over():\n",
        "    print(\"Current board:\")\n",
        "    print(board)\n",
        "\n",
        "    if board.turn == chess.WHITE:  # AI (random move)\n",
        "        legal_moves = [m for m in board.legal_moves if (m.from_square in valid_squares and m.to_square in valid_squares)]\n",
        "        if not legal_moves:\n",
        "            print(\"White has no legal moves. Game over.\")\n",
        "            break\n",
        "        move = random.choice(legal_moves)\n",
        "        print(f\"White plays: {move.uci()}\")\n",
        "        print(\"---------------------------------------------------------\")\n",
        "        board.push(move)\n",
        "\n",
        "    else:  # Human move\n",
        "        legal_moves = [m for m in board.legal_moves if (m.from_square in valid_squares and m.to_square in valid_squares)]\n",
        "        if not legal_moves:\n",
        "            print(\"Black has no legal moves. Game over.\")\n",
        "            break\n",
        "\n",
        "        print(\"Your turn! Enter a move in UCI format (e.g., a7a6, b7b6, c7c6)\")\n",
        "        print(\"Legal moves:\", [m.uci() for m in legal_moves])\n",
        "\n",
        "        user_input = input(\"Your move: \")\n",
        "        move = chess.Move.from_uci(user_input)\n",
        "        print(\"---------------------------------------------------------\")\n",
        "\n",
        "        if move in legal_moves:\n",
        "            board.push(move)\n",
        "        else:\n",
        "            print(\"Invalid move, try again.\")\n",
        "            continue\n",
        "\n",
        "print(\"\\nFinal board:\")\n",
        "print(board)\n",
        "print(\"Game result:\", board.result())"
      ],
      "metadata": {
        "colab": {
          "base_uri": "https://localhost:8080/",
          "height": 738
        },
        "id": "A_Lbz5X9o295",
        "outputId": "c7e432ac-df08-4a0b-bb11-47a43f810dd9"
      },
      "execution_count": 4,
      "outputs": [
        {
          "output_type": "stream",
          "name": "stdout",
          "text": [
            "Current board:\n",
            ". . . . . . . .\n",
            "q k b . . . . .\n",
            "p p p . . . . .\n",
            ". . . . . . . .\n",
            ". . . . . . . .\n",
            ". . . . . . . .\n",
            "P P P . . . . .\n",
            "Q K B . . . . .\n",
            "White plays: a2a4\n",
            "---------------------------------------------------------\n",
            "Current board:\n",
            ". . . . . . . .\n",
            "q k b . . . . .\n",
            "p p p . . . . .\n",
            ". . . . . . . .\n",
            "P . . . . . . .\n",
            ". . . . . . . .\n",
            ". P P . . . . .\n",
            "Q K B . . . . .\n",
            "Your turn! Enter a move in UCI format (e.g., a7a6, b7b6, c7c6)\n",
            "Legal moves: ['c6c5', 'b6b5', 'a6a5']\n"
          ]
        },
        {
          "output_type": "error",
          "ename": "KeyboardInterrupt",
          "evalue": "Interrupted by user",
          "traceback": [
            "\u001b[0;31m---------------------------------------------------------------------------\u001b[0m",
            "\u001b[0;31mKeyboardInterrupt\u001b[0m                         Traceback (most recent call last)",
            "\u001b[0;32m/tmp/ipython-input-3043478041.py\u001b[0m in \u001b[0;36m<cell line: 0>\u001b[0;34m()\u001b[0m\n\u001b[1;32m     25\u001b[0m         \u001b[0mprint\u001b[0m\u001b[0;34m(\u001b[0m\u001b[0;34m\"Legal moves:\"\u001b[0m\u001b[0;34m,\u001b[0m \u001b[0;34m[\u001b[0m\u001b[0mm\u001b[0m\u001b[0;34m.\u001b[0m\u001b[0muci\u001b[0m\u001b[0;34m(\u001b[0m\u001b[0;34m)\u001b[0m \u001b[0;32mfor\u001b[0m \u001b[0mm\u001b[0m \u001b[0;32min\u001b[0m \u001b[0mlegal_moves\u001b[0m\u001b[0;34m]\u001b[0m\u001b[0;34m)\u001b[0m\u001b[0;34m\u001b[0m\u001b[0;34m\u001b[0m\u001b[0m\n\u001b[1;32m     26\u001b[0m \u001b[0;34m\u001b[0m\u001b[0m\n\u001b[0;32m---> 27\u001b[0;31m         \u001b[0muser_input\u001b[0m \u001b[0;34m=\u001b[0m \u001b[0minput\u001b[0m\u001b[0;34m(\u001b[0m\u001b[0;34m\"Your move: \"\u001b[0m\u001b[0;34m)\u001b[0m\u001b[0;34m\u001b[0m\u001b[0;34m\u001b[0m\u001b[0m\n\u001b[0m\u001b[1;32m     28\u001b[0m         \u001b[0mmove\u001b[0m \u001b[0;34m=\u001b[0m \u001b[0mchess\u001b[0m\u001b[0;34m.\u001b[0m\u001b[0mMove\u001b[0m\u001b[0;34m.\u001b[0m\u001b[0mfrom_uci\u001b[0m\u001b[0;34m(\u001b[0m\u001b[0muser_input\u001b[0m\u001b[0;34m)\u001b[0m\u001b[0;34m\u001b[0m\u001b[0;34m\u001b[0m\u001b[0m\n\u001b[1;32m     29\u001b[0m         \u001b[0mprint\u001b[0m\u001b[0;34m(\u001b[0m\u001b[0;34m\"---------------------------------------------------------\"\u001b[0m\u001b[0;34m)\u001b[0m\u001b[0;34m\u001b[0m\u001b[0;34m\u001b[0m\u001b[0m\n",
            "\u001b[0;32m/usr/local/lib/python3.12/dist-packages/ipykernel/kernelbase.py\u001b[0m in \u001b[0;36mraw_input\u001b[0;34m(self, prompt)\u001b[0m\n\u001b[1;32m   1175\u001b[0m                 \u001b[0;34m\"raw_input was called, but this frontend does not support input requests.\"\u001b[0m\u001b[0;34m\u001b[0m\u001b[0;34m\u001b[0m\u001b[0m\n\u001b[1;32m   1176\u001b[0m             )\n\u001b[0;32m-> 1177\u001b[0;31m         return self._input_request(\n\u001b[0m\u001b[1;32m   1178\u001b[0m             \u001b[0mstr\u001b[0m\u001b[0;34m(\u001b[0m\u001b[0mprompt\u001b[0m\u001b[0;34m)\u001b[0m\u001b[0;34m,\u001b[0m\u001b[0;34m\u001b[0m\u001b[0;34m\u001b[0m\u001b[0m\n\u001b[1;32m   1179\u001b[0m             \u001b[0mself\u001b[0m\u001b[0;34m.\u001b[0m\u001b[0m_parent_ident\u001b[0m\u001b[0;34m[\u001b[0m\u001b[0;34m\"shell\"\u001b[0m\u001b[0;34m]\u001b[0m\u001b[0;34m,\u001b[0m\u001b[0;34m\u001b[0m\u001b[0;34m\u001b[0m\u001b[0m\n",
            "\u001b[0;32m/usr/local/lib/python3.12/dist-packages/ipykernel/kernelbase.py\u001b[0m in \u001b[0;36m_input_request\u001b[0;34m(self, prompt, ident, parent, password)\u001b[0m\n\u001b[1;32m   1217\u001b[0m             \u001b[0;32mexcept\u001b[0m \u001b[0mKeyboardInterrupt\u001b[0m\u001b[0;34m:\u001b[0m\u001b[0;34m\u001b[0m\u001b[0;34m\u001b[0m\u001b[0m\n\u001b[1;32m   1218\u001b[0m                 \u001b[0;31m# re-raise KeyboardInterrupt, to truncate traceback\u001b[0m\u001b[0;34m\u001b[0m\u001b[0;34m\u001b[0m\u001b[0m\n\u001b[0;32m-> 1219\u001b[0;31m                 \u001b[0;32mraise\u001b[0m \u001b[0mKeyboardInterrupt\u001b[0m\u001b[0;34m(\u001b[0m\u001b[0;34m\"Interrupted by user\"\u001b[0m\u001b[0;34m)\u001b[0m \u001b[0;32mfrom\u001b[0m \u001b[0;32mNone\u001b[0m\u001b[0;34m\u001b[0m\u001b[0;34m\u001b[0m\u001b[0m\n\u001b[0m\u001b[1;32m   1220\u001b[0m             \u001b[0;32mexcept\u001b[0m \u001b[0mException\u001b[0m\u001b[0;34m:\u001b[0m\u001b[0;34m\u001b[0m\u001b[0;34m\u001b[0m\u001b[0m\n\u001b[1;32m   1221\u001b[0m                 \u001b[0mself\u001b[0m\u001b[0;34m.\u001b[0m\u001b[0mlog\u001b[0m\u001b[0;34m.\u001b[0m\u001b[0mwarning\u001b[0m\u001b[0;34m(\u001b[0m\u001b[0;34m\"Invalid Message:\"\u001b[0m\u001b[0;34m,\u001b[0m \u001b[0mexc_info\u001b[0m\u001b[0;34m=\u001b[0m\u001b[0;32mTrue\u001b[0m\u001b[0;34m)\u001b[0m\u001b[0;34m\u001b[0m\u001b[0;34m\u001b[0m\u001b[0m\n",
            "\u001b[0;31mKeyboardInterrupt\u001b[0m: Interrupted by user"
          ]
        }
      ]
    },
    {
      "cell_type": "code",
      "source": [
        "5a"
      ],
      "metadata": {
        "id": "d_5DmwM2s4vY"
      },
      "execution_count": null,
      "outputs": []
    }
  ]
}