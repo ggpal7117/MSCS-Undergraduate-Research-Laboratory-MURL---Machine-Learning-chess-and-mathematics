{
  "cells": [
    {
      "cell_type": "markdown",
      "source": [
        "Here is my notebook of a sample chess game using a 8x3 board. Each player is given 6 pieces across the left end/strip of the board.\n",
        "We will set the computer to the first player(white).\n",
        "The minmax recursive function will use a basic evalutation function, adding to the computers score for its pieces, and subtracting for blacks."
      ],
      "metadata": {
        "id": "RH_jker5kOY2"
      }
    },
    {
      "cell_type": "code",
      "execution_count": 10,
      "metadata": {
        "id": "5fccB6RwrBMB",
        "colab": {
          "base_uri": "https://localhost:8080/"
        },
        "outputId": "c86bf508-a384-406d-80c5-61052658276a"
      },
      "outputs": [
        {
          "output_type": "stream",
          "name": "stdout",
          "text": [
            "Requirement already satisfied: python-chess in /usr/local/lib/python3.12/dist-packages (1.999)\n",
            "Requirement already satisfied: chess<2,>=1 in /usr/local/lib/python3.12/dist-packages (from python-chess) (1.11.2)\n"
          ]
        }
      ],
      "source": [
        "pip install python-chess"
      ]
    },
    {
      "cell_type": "code",
      "execution_count": 11,
      "metadata": {
        "id": "fqJysXcGqePm"
      },
      "outputs": [],
      "source": [
        "import chess\n",
        "import numpy as np\n",
        "import random\n",
        "import functools"
      ]
    },
    {
      "cell_type": "code",
      "execution_count": 12,
      "metadata": {
        "id": "-auky3r0rNor"
      },
      "outputs": [],
      "source": [
        "# Create an empty board\n",
        "board = chess.Board(None)  # no pieces\n",
        "\n",
        "# Place 3 white pieces on the first row\n",
        "board.set_piece_at(chess.A2, chess.Piece(chess.PAWN, chess.WHITE))\n",
        "board.set_piece_at(chess.B2, chess.Piece(chess.PAWN, chess.WHITE))\n",
        "board.set_piece_at(chess.C2, chess.Piece(chess.PAWN, chess.WHITE))\n",
        "\n",
        "# Place 3 black pieces on the first row\n",
        "board.set_piece_at(chess.A7, chess.Piece(chess.PAWN, chess.BLACK))\n",
        "board.set_piece_at(chess.B7, chess.Piece(chess.PAWN, chess.BLACK))\n",
        "board.set_piece_at(chess.C7, chess.Piece(chess.PAWN, chess.BLACK))\n",
        "\n",
        "\n",
        "# Three offesnsive pieces white\n",
        "board.set_piece_at(chess.A1, chess.Piece(chess.QUEEN, chess.WHITE))\n",
        "board.set_piece_at(chess.B1, chess.Piece(chess.KING, chess.WHITE))\n",
        "board.set_piece_at(chess.C1, chess.Piece(chess.ROOK, chess.WHITE))\n",
        "\n",
        "# Three offesnive pieces black\n",
        "board.set_piece_at(chess.A8, chess.Piece(chess.QUEEN, chess.BLACK))\n",
        "board.set_piece_at(chess.B8, chess.Piece(chess.KING, chess.BLACK))\n",
        "board.set_piece_at(chess.C8, chess.Piece(chess.ROOK, chess.BLACK))\n"
      ]
    },
    {
      "cell_type": "code",
      "source": [
        "print(\"8 Row 3 Column Board\")\n",
        "print(board)"
      ],
      "metadata": {
        "colab": {
          "base_uri": "https://localhost:8080/"
        },
        "id": "_JcweQ-lKBrh",
        "outputId": "598504c4-e030-4431-feed-368487060c76"
      },
      "execution_count": 13,
      "outputs": [
        {
          "output_type": "stream",
          "name": "stdout",
          "text": [
            "8 Row 3 Column Board\n",
            "q k r . . . . .\n",
            "p p p . . . . .\n",
            ". . . . . . . .\n",
            ". . . . . . . .\n",
            ". . . . . . . .\n",
            ". . . . . . . .\n",
            "P P P . . . . .\n",
            "Q K R . . . . .\n"
          ]
        }
      ]
    },
    {
      "cell_type": "code",
      "source": [
        "board.piece_map().items()"
      ],
      "metadata": {
        "colab": {
          "base_uri": "https://localhost:8080/"
        },
        "id": "o8I38ujzIT9F",
        "outputId": "1f882aec-1cf3-47a2-f015-8ed67f1201dd"
      },
      "execution_count": 14,
      "outputs": [
        {
          "output_type": "execute_result",
          "data": {
            "text/plain": [
              "dict_items([(58, Piece.from_symbol('r')), (57, Piece.from_symbol('k')), (56, Piece.from_symbol('q')), (50, Piece.from_symbol('p')), (49, Piece.from_symbol('p')), (48, Piece.from_symbol('p')), (10, Piece.from_symbol('P')), (9, Piece.from_symbol('P')), (8, Piece.from_symbol('P')), (2, Piece.from_symbol('R')), (1, Piece.from_symbol('K')), (0, Piece.from_symbol('Q'))])"
            ]
          },
          "metadata": {},
          "execution_count": 14
        }
      ]
    },
    {
      "cell_type": "code",
      "source": [
        "# Create min max algorithm for computer to make the best move\n",
        "def evaluate_board(board):\n",
        "  \"\"\"\n",
        "  Simple evaluation function:\n",
        "  Assigns point values to pieces and sums the values for each player.\n",
        "  Positive values favor White, negative values favor Black.\n",
        "  \"\"\"\n",
        "  piece_values = {\n",
        "      chess.PAWN: 1, # Least Important\n",
        "      chess.ROOK: 5, # More Important\n",
        "      chess.QUEEN: 12, # Very Important\n",
        "      chess.KING: 0, # King value is for checkmate, not material(Not to capture)\n",
        "  }\n",
        "  evaluation = 0\n",
        "  for square in chess.SQUARES:\n",
        "    piece = board.piece_at(square)\n",
        "    if piece:\n",
        "      value = piece_values.get(piece.piece_type, 0)\n",
        "      # Add score for white(the computer)\n",
        "      if piece.color == chess.WHITE:\n",
        "        evaluation += value\n",
        "      # Subtract for blacks pieces\n",
        "      else:\n",
        "        evaluation -= value\n",
        "  return evaluation\n",
        "\n",
        "# @functools.cache\n",
        "def min_max(board, depth, maximizing_player):\n",
        "  # -- Base case\n",
        "  if depth == 0 or board.is_game_over():\n",
        "    return evaluate_board(board)\n",
        "\n",
        "  # Max player case\n",
        "  if maximizing_player:\n",
        "    # loop through all possible moves to recursievely call upon\n",
        "    max_eval = float('-inf')\n",
        "    for move in board.legal_moves:\n",
        "      board.push(move)\n",
        "      eval = min_max(board, depth - 1, False)\n",
        "      board.pop()\n",
        "      max_eval = max(max_eval, eval)\n",
        "    return max_eval\n",
        "\n",
        "  # Min player case\n",
        "  else:\n",
        "    min_eval = float('inf')\n",
        "    for move in board.legal_moves:\n",
        "      board.push(move)\n",
        "      eval = min_max(board, depth - 1, True)\n",
        "      board.pop()\n",
        "      min_eval = min(min_eval, eval)\n",
        "    return min_eval\n",
        "\n",
        "\n",
        "# Create function to actually make the move utilizing the min_max algorithm\n",
        "def make_move(board, valid_squares):\n",
        "  best_move = None\n",
        "  best_eval = float('-inf')\n",
        "  # Filter legal moves to stay within valid_squares\n",
        "  possible_moves = [move for move in board.legal_moves if move.from_square in valid_squares and move.to_square in valid_squares]\n",
        "\n",
        "  for move in possible_moves:\n",
        "    board.push(move)\n",
        "    eval = min_max(board, 3, False)\n",
        "    board.pop()\n",
        "    if eval > best_eval:\n",
        "      best_eval = eval\n",
        "      best_move = move\n",
        "  return best_move"
      ],
      "metadata": {
        "id": "P7ZiFq4zEP9p"
      },
      "execution_count": 15,
      "outputs": []
    },
    {
      "cell_type": "code",
      "execution_count": 16,
      "metadata": {
        "colab": {
          "base_uri": "https://localhost:8080/",
          "height": 755
        },
        "id": "A_Lbz5X9o295",
        "outputId": "10d1fac2-ac40-4ad4-82cb-5be0fb336bb4"
      },
      "outputs": [
        {
          "output_type": "stream",
          "name": "stdout",
          "text": [
            "Current board:\n",
            "q k r . . . . .\n",
            "p p p . . . . .\n",
            ". . . . . . . .\n",
            ". . . . . . . .\n",
            ". . . . . . . .\n",
            ". . . . . . . .\n",
            "P P P . . . . .\n",
            "Q K R . . . . .\n",
            "White plays: c2c3\n",
            "---------------------------------------------------------\n",
            "\n",
            "Current board:\n",
            "q k r . . . . .\n",
            "p p p . . . . .\n",
            ". . . . . . . .\n",
            ". . . . . . . .\n",
            ". . . . . . . .\n",
            ". . P . . . . .\n",
            "P P . . . . . .\n",
            "Q K R . . . . .\n",
            "Your turn! Enter a move in UCI format (e.g., a7a6, b7b6, c7c6)\n",
            "Legal moves: ['c7c6', 'b7b6', 'a7a6', 'c7c5', 'b7b5', 'a7a5']\n"
          ]
        },
        {
          "output_type": "error",
          "ename": "KeyboardInterrupt",
          "evalue": "Interrupted by user",
          "traceback": [
            "\u001b[0;31m---------------------------------------------------------------------------\u001b[0m",
            "\u001b[0;31mKeyboardInterrupt\u001b[0m                         Traceback (most recent call last)",
            "\u001b[0;32m/tmp/ipython-input-341284924.py\u001b[0m in \u001b[0;36m<cell line: 0>\u001b[0;34m()\u001b[0m\n\u001b[1;32m     35\u001b[0m         \u001b[0;32mwhile\u001b[0m \u001b[0;32mTrue\u001b[0m\u001b[0;34m:\u001b[0m\u001b[0;34m\u001b[0m\u001b[0;34m\u001b[0m\u001b[0m\n\u001b[1;32m     36\u001b[0m             \u001b[0;32mtry\u001b[0m\u001b[0;34m:\u001b[0m\u001b[0;34m\u001b[0m\u001b[0;34m\u001b[0m\u001b[0m\n\u001b[0;32m---> 37\u001b[0;31m                 \u001b[0muser_input\u001b[0m \u001b[0;34m=\u001b[0m \u001b[0minput\u001b[0m\u001b[0;34m(\u001b[0m\u001b[0;34m\"Your move: \"\u001b[0m\u001b[0;34m)\u001b[0m\u001b[0;34m\u001b[0m\u001b[0;34m\u001b[0m\u001b[0m\n\u001b[0m\u001b[1;32m     38\u001b[0m                 \u001b[0mmove\u001b[0m \u001b[0;34m=\u001b[0m \u001b[0mchess\u001b[0m\u001b[0;34m.\u001b[0m\u001b[0mMove\u001b[0m\u001b[0;34m.\u001b[0m\u001b[0mfrom_uci\u001b[0m\u001b[0;34m(\u001b[0m\u001b[0muser_input\u001b[0m\u001b[0;34m)\u001b[0m\u001b[0;34m\u001b[0m\u001b[0;34m\u001b[0m\u001b[0m\n\u001b[1;32m     39\u001b[0m \u001b[0;34m\u001b[0m\u001b[0m\n",
            "\u001b[0;32m/usr/local/lib/python3.12/dist-packages/ipykernel/kernelbase.py\u001b[0m in \u001b[0;36mraw_input\u001b[0;34m(self, prompt)\u001b[0m\n\u001b[1;32m   1175\u001b[0m                 \u001b[0;34m\"raw_input was called, but this frontend does not support input requests.\"\u001b[0m\u001b[0;34m\u001b[0m\u001b[0;34m\u001b[0m\u001b[0m\n\u001b[1;32m   1176\u001b[0m             )\n\u001b[0;32m-> 1177\u001b[0;31m         return self._input_request(\n\u001b[0m\u001b[1;32m   1178\u001b[0m             \u001b[0mstr\u001b[0m\u001b[0;34m(\u001b[0m\u001b[0mprompt\u001b[0m\u001b[0;34m)\u001b[0m\u001b[0;34m,\u001b[0m\u001b[0;34m\u001b[0m\u001b[0;34m\u001b[0m\u001b[0m\n\u001b[1;32m   1179\u001b[0m             \u001b[0mself\u001b[0m\u001b[0;34m.\u001b[0m\u001b[0m_parent_ident\u001b[0m\u001b[0;34m[\u001b[0m\u001b[0;34m\"shell\"\u001b[0m\u001b[0;34m]\u001b[0m\u001b[0;34m,\u001b[0m\u001b[0;34m\u001b[0m\u001b[0;34m\u001b[0m\u001b[0m\n",
            "\u001b[0;32m/usr/local/lib/python3.12/dist-packages/ipykernel/kernelbase.py\u001b[0m in \u001b[0;36m_input_request\u001b[0;34m(self, prompt, ident, parent, password)\u001b[0m\n\u001b[1;32m   1217\u001b[0m             \u001b[0;32mexcept\u001b[0m \u001b[0mKeyboardInterrupt\u001b[0m\u001b[0;34m:\u001b[0m\u001b[0;34m\u001b[0m\u001b[0;34m\u001b[0m\u001b[0m\n\u001b[1;32m   1218\u001b[0m                 \u001b[0;31m# re-raise KeyboardInterrupt, to truncate traceback\u001b[0m\u001b[0;34m\u001b[0m\u001b[0;34m\u001b[0m\u001b[0m\n\u001b[0;32m-> 1219\u001b[0;31m                 \u001b[0;32mraise\u001b[0m \u001b[0mKeyboardInterrupt\u001b[0m\u001b[0;34m(\u001b[0m\u001b[0;34m\"Interrupted by user\"\u001b[0m\u001b[0;34m)\u001b[0m \u001b[0;32mfrom\u001b[0m \u001b[0;32mNone\u001b[0m\u001b[0;34m\u001b[0m\u001b[0;34m\u001b[0m\u001b[0m\n\u001b[0m\u001b[1;32m   1220\u001b[0m             \u001b[0;32mexcept\u001b[0m \u001b[0mException\u001b[0m\u001b[0;34m:\u001b[0m\u001b[0;34m\u001b[0m\u001b[0;34m\u001b[0m\u001b[0m\n\u001b[1;32m   1221\u001b[0m                 \u001b[0mself\u001b[0m\u001b[0;34m.\u001b[0m\u001b[0mlog\u001b[0m\u001b[0;34m.\u001b[0m\u001b[0mwarning\u001b[0m\u001b[0;34m(\u001b[0m\u001b[0;34m\"Invalid Message:\"\u001b[0m\u001b[0;34m,\u001b[0m \u001b[0mexc_info\u001b[0m\u001b[0;34m=\u001b[0m\u001b[0;32mTrue\u001b[0m\u001b[0;34m)\u001b[0m\u001b[0;34m\u001b[0m\u001b[0;34m\u001b[0m\u001b[0m\n",
            "\u001b[0;31mKeyboardInterrupt\u001b[0m: Interrupted by user"
          ]
        }
      ],
      "source": [
        "valid_squares = {chess.square(file, rank) for file in range(0, 3) for rank in range(0, 8)}\n",
        "#print(valid_squares)\n",
        "\n",
        "\n",
        "# --- Play loop ---\n",
        "while not board.is_game_over():\n",
        "    print(\"Current board:\")\n",
        "    print(board)\n",
        "\n",
        "    if board.turn == chess.WHITE:  # AI (random move)\n",
        "        legal_moves = [m for m in board.legal_moves if (m.from_square in valid_squares and m.to_square in valid_squares)]\n",
        "        if not legal_moves:\n",
        "            print(\"White has no legal moves. Game over.\")\n",
        "            break\n",
        "\n",
        "        # Implement minmax for the computer here\n",
        "        move = make_move(board, valid_squares)\n",
        "        #move = random.choice(legal_moves)\n",
        "        print(f\"White plays: {move.uci()}\")\n",
        "        print(\"---------------------------------------------------------\\n\")\n",
        "        board.push(move)\n",
        "\n",
        "    else:  # Human move\n",
        "        legal_moves = [m for m in board.legal_moves if (m.from_square in valid_squares and m.to_square in valid_squares)]\n",
        "        #legal_moves_NoQuit = [m for m in board.legal_moves if (m.from_square in valid_squares and m.to_square in valid_squares)]\n",
        "        if not legal_moves:\n",
        "            print(\"Black has no legal moves. Game over.\")\n",
        "            break\n",
        "\n",
        "        print(\"Your turn! Enter a move in UCI format (e.g., a7a6, b7b6, c7c6)\")\n",
        "        print(\"Legal moves:\", [m.uci() for m in legal_moves])\n",
        "\n",
        "\n",
        "        #game_over = False\n",
        "        while True:\n",
        "            try:\n",
        "                user_input = input(\"Your move: \")\n",
        "                move = chess.Move.from_uci(user_input)\n",
        "\n",
        "                # -- Create a case for quiting the game completely\n",
        "                if user_input.lower() == \"quit\":\n",
        "                    game_over = True\n",
        "                    print(\"Quitting the game.\")\n",
        "                    break\n",
        "\n",
        "                if move in legal_moves:\n",
        "                    break\n",
        "            except ValueError:\n",
        "                print(\"Invalid move format. Try again.\")\n",
        "                print(\"Legal moves:\", [m.uci() for m in legal_moves])\n",
        "\n",
        "\n",
        "\n",
        "        print(\"---------------------------------------------------------\\n\")\n",
        "\n",
        "        if move in legal_moves:\n",
        "            board.push(move)\n",
        "        else:\n",
        "            print(\"Invalid move, try again.\")\n",
        "            continue\n",
        "\n",
        "print(\"\\nFinal board:\")\n",
        "print(board)\n",
        "print(\"Game result:\", board.result())"
      ]
    }
  ],
  "metadata": {
    "colab": {
      "provenance": []
    },
    "kernelspec": {
      "display_name": "Python 3",
      "name": "python3"
    },
    "language_info": {
      "name": "python"
    }
  },
  "nbformat": 4,
  "nbformat_minor": 0
}